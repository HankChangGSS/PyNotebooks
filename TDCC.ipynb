{
  "nbformat": 4,
  "nbformat_minor": 0,
  "metadata": {
    "colab": {
      "provenance": []
    },
    "kernelspec": {
      "name": "python3",
      "display_name": "Python 3"
    },
    "language_info": {
      "name": "python"
    }
  },
  "cells": [
    {
      "cell_type": "code",
      "execution_count": null,
      "metadata": {
        "id": "Bopbz66BZzpr"
      },
      "outputs": [],
      "source": [
        "import requests\n",
        "from lxml import html\n",
        "from bs4 import BeautifulSoup as bs\n",
        "import pandas as pd\n",
        "import json\n",
        "from time import sleep\n",
        "from google.colab import drive\n",
        "import os\n",
        "import os.path"
      ]
    },
    {
      "cell_type": "code",
      "source": [
        "class TDCC():\n",
        "    def __init__(self):\n",
        "        self.headers = {\n",
        "            'User-Agent': 'Mozilla/5.0 (Windows NT 10.0; Win64; x64) AppleWebKit/537.36 (KHTML, like Gecko) Chrome/104.0.0.0 Safari/537.36',\n",
        "            'Host':'www.tdcc.com.tw'\n",
        "        }\n",
        "        self.token_url = 'https://www.tdcc.com.tw/portal/zh/smWeb/qryStock'\n",
        "        self.post_url = 'https://www.tdcc.com.tw/portal/zh/smWeb/qryStock'\n",
        "        self.session = requests.Session()\n",
        "\n",
        "    def token(self, url):\n",
        "        respone = self.session.get(url, headers = self.headers)\n",
        "        soup = bs(respone.text , 'lxml')\n",
        "        token  = soup.select('#SYNCHRONIZER_TOKEN')[0]['value']\n",
        "        return token\n",
        "\n",
        "    def getHtml(self, firDate = '20220902', scaDate = '20220902', sqlMethod = 'StockNo', stockNo = '2330'):\n",
        "\n",
        "        post_data = {\n",
        "            'SYNCHRONIZER_TOKEN': self.token(url = self.token_url),\n",
        "            'SYNCHRONIZER_URI': '/portal/zh/smWeb/qryStock',\n",
        "            'method': 'submit',\n",
        "            'firDate': firDate,\n",
        "            'scaDate': scaDate,\n",
        "            'sqlMethod': sqlMethod,\n",
        "            'stockNo': stockNo,\n",
        "            'stockName': ''\n",
        "        }\n",
        "        \n",
        "        response = self.session.post(self.post_url, headers= self.headers, data=post_data)\n",
        "        return response.text\n",
        "\n",
        "    def getDataFrame(self, html):\n",
        "        soup = bs(html, 'lxml')\n",
        "        html_table_string = str(soup.find_all(\"table\", class_=\"table\"))\n",
        "        df_table = pd.read_html(html_table_string)\n",
        "        df = df_table[0]\n",
        "        return df"
      ],
      "metadata": {
        "id": "1fAu-MadaXNe"
      },
      "execution_count": null,
      "outputs": []
    },
    {
      "cell_type": "code",
      "source": [
        "df_all = pd.DataFrame()\n",
        "date_string = '20230113'\n",
        "drive.mount('/content/gdrive')\n",
        "\n",
        "directory = f'/content/gdrive/My Drive/DataTDCCWeeklyCSV/{date_string}_CSV/'\n",
        "if not os.path.exists(directory):\n",
        "    os.makedirs(directory)\n",
        "    sleep(5)\n",
        "\n",
        "co_list = [\"0050\",\"2330\"]\n",
        "for x in range(len(co_list)):\n",
        "  try:\n",
        "    tdcc = TDCC()\n",
        "    df = tdcc.getDataFrame(tdcc.getHtml(date_string,date_string,'StockNo',co_list[x]))\n",
        "    df.insert(0,'co_id',co_list[x])\n",
        "    df.insert(0,'DataDate',date_string)\n",
        "\n",
        "    csv_file = f'{directory}/{date_string}_{co_list[x]}.csv'\n",
        "    if os.path.exists(csv_file):\n",
        "      print(f'\\033[93m {co_list[x]} 檔案已存在 \\x1b[0m')\n",
        "      continue\n",
        "    if len(df.index) <= 1:\n",
        "      print(f'\\033[93m {co_list[x]} 查無此資料 \\x1b[0m')\n",
        "      continue\n",
        "    df.to_csv(csv_file)\n",
        "    print(f'{co_list[x]} 第{x}筆 OK')\n",
        "    sleep(0.3)\n",
        "  except Exception as e:\n",
        "      print(f'\\033[91m {co_list[x]} Exception: {str(e)} \\x1b[0m')\n",
        "\n"
      ],
      "metadata": {
        "id": "yuwxZNF_bN2F"
      },
      "execution_count": null,
      "outputs": []
    }
  ]
}